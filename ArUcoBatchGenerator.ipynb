{
  "nbformat": 4,
  "nbformat_minor": 0,
  "metadata": {
    "colab": {
      "private_outputs": true,
      "provenance": [],
      "authorship_tag": "ABX9TyPhPDF2O9T+ftnKvJuD4P0Y"
    },
    "kernelspec": {
      "name": "python3",
      "display_name": "Python 3"
    },
    "language_info": {
      "name": "python"
    }
  },
  "cells": [
    {
      "cell_type": "markdown",
      "source": [
        "# Aruco Batch Generator"
      ],
      "metadata": {
        "id": "oDF496EbqJgD"
      }
    },
    {
      "cell_type": "code",
      "source": [
        "#@title Licensed under the Apache License, Version 2.0 (the \"License\");\n",
        "# you may not use this file except in compliance with the License.\n",
        "# You may obtain a copy of the License at\n",
        "#\n",
        "# https://www.apache.org/licenses/LICENSE-2.0\n",
        "#\n",
        "# Unless required by applicable law or agreed to in writing, software\n",
        "# distributed under the License is distributed on an \"AS IS\" BASIS,\n",
        "# WITHOUT WARRANTIES OR CONDITIONS OF ANY KIND, either express or implied.\n",
        "# See the License for the specific language governing permissions and\n",
        "# limitations under the License."
      ],
      "metadata": {
        "cellView": "form",
        "id": "tQFxyCtps6SX"
      },
      "execution_count": null,
      "outputs": []
    },
    {
      "cell_type": "markdown",
      "source": [
        "## Definitions\n",
        "Some imports and useful functions"
      ],
      "metadata": {
        "id": "eWbx_scbncOI"
      }
    },
    {
      "cell_type": "code",
      "source": [
        "import cv2\n",
        "import os\n",
        "\n",
        "def create_folder(path):\n",
        "  if not os.path.isdir(path):\n",
        "   os.makedirs(path)\n",
        "\n",
        "def generate_and_export_batch(aruco_dict, max_count, output_folder, ext):\n",
        "  for i in range(0, max_count):\n",
        "    marker = cv2.aruco.drawMarker(aruco_dict, i, marker_size)\n",
        "    output_path = os.path.join(output_folder, \"marker_\" + str('%03d' % i) + ext)\n",
        "    cv2.imwrite(output_path, marker)\n",
        "\n",
        "def generate_aruco_markers(dict_code, count, output_folder, ext):\n",
        "  if count <= 0:\n",
        "    print(\"Invalid input count\", count)\n",
        "    return\n",
        "\n",
        "  aruco_dict = cv2.aruco.getPredefinedDictionary(dict_code)\n",
        "  real_max_count = min(count, len(aruco_dict.bytesList))\n",
        "\n",
        "  print(\"Generating \" , real_max_count, \" markers...\")\n",
        "  generate_and_export_batch(aruco_dict, real_max_count, output_folder, ext)\n",
        "  print(\"Generation completed!\")\n",
        "\n",
        "#main:\n",
        "output = \"output\"\n",
        "create_folder(output)\n",
        "generate_aruco_markers(eval(predefined_dict), max_tags, output, marker_extension)"
      ],
      "metadata": {
        "id": "QCXat9_jWR5q"
      },
      "execution_count": null,
      "outputs": []
    },
    {
      "cell_type": "markdown",
      "source": [
        "## Gneration settings"
      ],
      "metadata": {
        "id": "hfQXPzABnpln"
      }
    },
    {
      "cell_type": "code",
      "source": [
        "#@markdown Aruco Generation\n",
        "predefined_dict = \"cv2.aruco.DICT_4X4_50\" #@param [\"cv2.aruco.DICT_4X4_50\",\"cv2.aruco.DICT_4X4_100\",\"cv2.aruco.DICT_4X4_250\",\"cv2.aruco.DICT_4X4_1000\",\"cv2.aruco.DICT_5X5_50\",\"cv2.aruco.DICT_5X5_100\",\"cv2.aruco.DICT_5X5_250\",\"cv2.aruco.DICT_5X5_1000\",\"cv2.aruco.DICT_6X6_50\",\"cv2.aruco.DICT_6X6_100\",\"cv2.aruco.DICT_6X6_250\",\"cv2.aruco.DICT_6X6_1000\",\"cv2.aruco.DICT_7X7_50\",\"cv2.aruco.DICT_7X7_100\",\"cv2.aruco.DICT_7X7_250\",\"cv2.aruco.DICT_7X7_1000\",\"cv2.aruco.DICT_ARUCO_ORIGINAL\",\"cv2.aruco.DICT_APRILTAG_16h5\",\"cv2.aruco.DICT_APRILTAG_25h9\",\"cv2.aruco.DICT_APRILTAG_36h10\",\"cv2.aruco.DICT_APRILTAG_36h11\"]\n",
        "max_tags = 4 #@param {type:\"number\"}\n",
        "\n",
        "#@markdown Marker settings\n",
        "marker_size = 256 #@param {type:\"slider\", min:48, max:2048, step:2}\n",
        "marker_extension = \".png\" #@param [\".png\", \".jpg\"]\n",
        "\n",
        "\n"
      ],
      "metadata": {
        "cellView": "form",
        "id": "HtwF6twganHd"
      },
      "execution_count": null,
      "outputs": []
    },
    {
      "cell_type": "markdown",
      "source": [
        "## Let's generate!\n"
      ],
      "metadata": {
        "id": "LLXYug5nnYno"
      }
    },
    {
      "cell_type": "code",
      "source": [
        "output_dir = \"output\"\n",
        "create_folder(output_dir)\n",
        "generate_aruco_markers(eval(predefined_dict), max_tags, output_dir, marker_extension)"
      ],
      "metadata": {
        "id": "ag-cbOwQnaOf"
      },
      "execution_count": null,
      "outputs": []
    },
    {
      "cell_type": "markdown",
      "source": [
        "By [ianovir](https://ianovir.com), 2023\n"
      ],
      "metadata": {
        "id": "tgqUG2ynspu1"
      }
    }
  ]
}